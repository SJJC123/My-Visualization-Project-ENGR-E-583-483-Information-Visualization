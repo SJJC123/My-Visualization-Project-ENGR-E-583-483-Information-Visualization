{
 "cells": [
  {
   "cell_type": "markdown",
   "id": "c3fc9a99-e098-4a8c-b4a0-5da9bb869b45",
   "metadata": {},
   "source": [
    "# My Visualization Project - Visual Analytics Proposal and Prototypes - Sergio Carrillo\n",
    "## NBA Team Statistics Across Seasons\n"
   ]
  },
  {
   "cell_type": "code",
   "execution_count": 7,
   "id": "4ce843d7-16d6-4bf6-8275-653f0adfdee7",
   "metadata": {},
   "outputs": [
    {
     "name": "stdout",
     "output_type": "stream",
     "text": [
      "NOTE: To select multiple teams at once, hold down 'command' and select your choices on Mac (Apple)\n",
      "or hold down 'ctrl' and select choices on Windows/Linux\n",
      "NOTE: Some teams no longer exist, hence the limited data for them.\n"
     ]
    },
    {
     "data": {
      "application/vnd.jupyter.widget-view+json": {
       "model_id": "9ca24eaece8d4cc79fe5173639487bb4",
       "version_major": 2,
       "version_minor": 0
      },
      "text/plain": [
       "interactive(children=(SelectMultiple(description='Teams', index=(7, 12, 1, 5, 14), layout=Layout(width='35%'),…"
      ]
     },
     "metadata": {},
     "output_type": "display_data"
    }
   ],
   "source": [
    "# Import necessary libraries for temporal visual\n",
    "import pandas as pd\n",
    "import matplotlib.pyplot as plt\n",
    "import ipywidgets as slicer\n",
    "import seaborn as sns\n",
    "\n",
    "# Load in CSV file from Kaggle / NBA data\n",
    "nba_data = pd.read_csv(\"NBA Team Stats.csv\")\n",
    "\n",
    "# Extract years and teams from the data\n",
    "years = sorted(nba_data['Season'].unique())  \n",
    "teams = sorted(nba_data['TEAM'].unique())  \n",
    "\n",
    "# NBA Team Metrics (abbreviations and full names)\n",
    "metrics = [\"PTS\", \"OR\", \"DR\", \"AST\", \"STL\", \"BLK\", \"TO\", \"PF\"]\n",
    "full_metrics = [\n",
    "    \"Points Scored\", \"Offensive Rebounds\", \"Defensive Rebounds\", \n",
    "    \"Assists\", \"Steals\", \"Blocks\", \"Turnovers\", \n",
    "    \"Personal Fouls\"\n",
    "]\n",
    "\n",
    "# Assign colorblind-friendly colors for user inclusivity\n",
    "colors = sns.color_palette(\"colorblind\", n_colors=len(teams))\n",
    "team_colors = {team: colors[i % len(colors)] for i, team in enumerate(teams)}\n",
    "\n",
    "# Assign unique markers for better differentiate / good for visually impaired\n",
    "markers = ['o', 's', 'D', '^', 'v', 'P', '*', 'X', 'h', '+']\n",
    "team_markers = {team: markers[i % len(markers)] for i, team in enumerate(teams)}\n",
    "\n",
    "# Team widget - multiple team selector\n",
    "team_selector = slicer.SelectMultiple(\n",
    "    options=teams,\n",
    "    value=[\"Dallas Mavericks\", \"Indiana Pacers\", \"Boston Celtics\", \"Chicago Bulls\", \"Los Angeles Lakers\"],\n",
    "    description=\"Teams\",\n",
    "    layout=slicer.Layout(width=\"35%\")\n",
    ")\n",
    "\n",
    "# Metrics widget - drop-down choice\n",
    "metric_selector = slicer.Dropdown(\n",
    "    options=full_metrics,\n",
    "    value=\"Points Scored\",\n",
    "    description=\"Metric\"\n",
    ")\n",
    "\n",
    "# Function for plotting team names with metrics\n",
    "def NBA(selected_teams, selected_metric):\n",
    "    # Map full metric name to abbreviation (PTS -> Points Scored)\n",
    "    selected_metric_abbr = metrics[full_metrics.index(selected_metric)]\n",
    "    \n",
    "    # Sort years in ascending order (2001 -> 2023)\n",
    "    years_sorted = sorted(nba_data['Season'].unique())\n",
    "\n",
    "    # Set figure size and background color\n",
    "    plt.figure(figsize=(15, 8), facecolor='lightgrey')\n",
    "\n",
    "    # Loop through selected teams and plot\n",
    "    for i in selected_teams:\n",
    "        team_data = nba_data[nba_data['TEAM'] == i]\n",
    "        team_data_sorted = team_data.sort_values(by='Season')\n",
    "        plt.plot(\n",
    "            team_data_sorted['Season'], team_data_sorted[selected_metric_abbr], \n",
    "            marker=team_markers[i], linestyle='-', \n",
    "            color=team_colors[i], label=i\n",
    "        )\n",
    "    \n",
    "    # Graph details\n",
    "    plt.title(f'NBA Teams Comparison: {selected_metric} Over Time', fontsize=16, fontweight='bold')\n",
    "    plt.xlabel('NBA Season (Year)', fontsize=14, fontweight='bold')\n",
    "    plt.ylabel(f\"Average Team Metric: {selected_metric}\", fontsize=14, fontweight='bold')\n",
    "    plt.xticks(years_sorted, rotation=45)\n",
    "    plt.legend(title=\"NBA Teams\", loc='upper left', fontsize=11)\n",
    "    plt.tight_layout()\n",
    "    plt.show()\n",
    "\n",
    "print(\"NOTE: To select multiple teams at once, hold down 'command' and select your choices on Mac (Apple)\\nor hold down 'ctrl' and select choices on Windows/Linux\")\n",
    "print(\"NOTE: Some teams no longer exist, hence the limited data for them.\")\n",
    "slicer.interactive(NBA, selected_teams=team_selector, selected_metric=metric_selector)\n"
   ]
  },
  {
   "cell_type": "code",
   "execution_count": null,
   "id": "aeca890f-5aa3-434f-8ee3-5220fca173bb",
   "metadata": {},
   "outputs": [],
   "source": []
  }
 ],
 "metadata": {
  "kernelspec": {
   "display_name": "Python 3 (ipykernel)",
   "language": "python",
   "name": "python3"
  },
  "language_info": {
   "codemirror_mode": {
    "name": "ipython",
    "version": 3
   },
   "file_extension": ".py",
   "mimetype": "text/x-python",
   "name": "python",
   "nbconvert_exporter": "python",
   "pygments_lexer": "ipython3",
   "version": "3.7.12"
  }
 },
 "nbformat": 4,
 "nbformat_minor": 5
}
